{
 "cells": [
  {
   "cell_type": "markdown",
   "source": [
    "We are testing the Free \n",
    "Currency API \n"
   ],
   "metadata": {
    "collapsed": false
   },
   "id": "d51444b7619930a6"
  },
  {
   "cell_type": "code",
   "execution_count": 8,
   "outputs": [
    {
     "name": "stdout",
     "output_type": "stream",
     "text": [
      "{'USD': 1, 'AED': 3.6725, 'AFN': 84.4151, 'ALL': 96.7545, 'AMD': 386.1765, 'ANG': 1.79, 'AOA': 833.6169, 'ARS': 350.02, 'AUD': 1.5621, 'AWG': 1.79, 'AZN': 1.7017, 'BAM': 1.7993, 'BBD': 2.0, 'BDT': 109.4621, 'BGN': 1.7993, 'BHD': 0.376, 'BIF': 2824.2052, 'BMD': 1.0, 'BND': 1.3575, 'BOB': 6.9354, 'BRL': 4.9768, 'BSD': 1.0, 'BTN': 83.1512, 'BWP': 13.6172, 'BYN': 2.8693, 'BZD': 2.0, 'CAD': 1.3551, 'CDF': 2369.5609, 'CHF': 0.8814, 'CLP': 867.4955, 'CNY': 7.3001, 'COP': 4135.6477, 'CRC': 535.6414, 'CUP': 24.0, 'CVE': 101.4399, 'CZK': 22.1103, 'DJF': 177.721, 'DKK': 6.8625, 'DOP': 56.7735, 'DZD': 136.0623, 'EGP': 30.9043, 'ERN': 15.0, 'ETB': 55.3726, 'EUR': 0.92, 'FJD': 2.2666, 'FKP': 0.7853, 'FOK': 6.8633, 'GBP': 0.7854, 'GEL': 2.6184, 'GGP': 0.7853, 'GHS': 11.3456, 'GIP': 0.7853, 'GMD': 63.2609, 'GNF': 8579.5849, 'GTQ': 7.8606, 'GYD': 209.3821, 'HKD': 7.8313, 'HNL': 24.6391, 'HRK': 6.9315, 'HTG': 135.9032, 'HUF': 352.6008, 'IDR': 15294.7485, 'ILS': 3.7965, 'IMP': 0.7853, 'INR': 83.1513, 'IQD': 1311.1829, 'IRR': 42009.6188, 'ISK': 132.2374, 'JEP': 0.7853, 'JMD': 154.8347, 'JOD': 0.709, 'JPY': 145.4215, 'KES': 144.4944, 'KGS': 88.1106, 'KHR': 4155.6067, 'KID': 1.5621, 'KMF': 452.593, 'KRW': 1340.795, 'KWD': 0.308, 'KYD': 0.8333, 'KZT': 459.5716, 'LAK': 19244.4932, 'LBP': 15000.0, 'LKR': 321.8362, 'LRD': 190.6043, 'LSL': 19.0192, 'LYD': 4.8184, 'MAD': 9.893, 'MDL': 17.756, 'MGA': 4475.8648, 'MKD': 56.5666, 'MMK': 2099.5544, 'MNT': 3447.6623, 'MOP': 8.0663, 'MRU': 38.4486, 'MUR': 45.6622, 'MVR': 15.4711, 'MWK': 1090.0624, 'MXN': 17.0629, 'MYR': 4.6474, 'MZN': 63.9202, 'NAD': 19.0192, 'NGN': 764.576, 'NIO': 36.6171, 'NOK': 10.6386, 'NPR': 133.0419, 'NZD': 1.6869, 'OMR': 0.3845, 'PAB': 1.0, 'PEN': 3.7152, 'PGK': 3.6397, 'PHP': 56.2617, 'PKR': 296.2687, 'PLN': 4.1101, 'PYG': 7304.1276, 'QAR': 3.64, 'RON': 4.5491, 'RSD': 107.7467, 'RUB': 94.3722, 'RWF': 1225.1036, 'SAR': 3.75, 'SBD': 8.508, 'SCR': 13.8207, 'SDG': 548.0914, 'SEK': 10.979, 'SGD': 1.3575, 'SHP': 0.7853, 'SLE': 20.6456, 'SLL': 20645.6368, 'SOS': 569.8209, 'SRD': 38.1461, 'SSP': 1008.5917, 'STN': 22.5391, 'SYP': 12961.719, 'SZL': 19.0192, 'THB': 35.3734, 'TJS': 10.9299, 'TMT': 3.5009, 'TND': 3.0932, 'TOP': 2.3504, 'TRY': 27.1136, 'TTD': 6.7453, 'TVD': 1.5621, 'TWD': 31.8981, 'TZS': 2504.5239, 'UAH': 36.9268, 'UGX': 3730.7639, 'UYU': 38.2521, 'UZS': 12073.9689, 'VES': 31.8473, 'VND': 23788.8986, 'VUV': 120.8632, 'WST': 2.7678, 'XAF': 603.4573, 'XCD': 2.7, 'XDR': 0.7529, 'XOF': 603.4573, 'XPF': 109.7812, 'YER': 250.3866, 'ZAR': 19.0193, 'ZMW': 19.4883, 'ZWL': 4573.931}\n"
     ]
    }
   ],
   "source": [
    "import requests\n",
    "\n",
    "API_key='c36156d1ccf4700f15af4ef3'\n",
    "url='https://v6.exchangerate-api.com/v6/'+API_key+('/latest'\n",
    "                                                 '/USD')\n",
    "response = requests.get(url)\n",
    "data = response.json()\n",
    "print(data['conversion_rates'])\n"
   ],
   "metadata": {
    "collapsed": false,
    "ExecuteTime": {
     "end_time": "2023-08-20T13:01:54.387770300Z",
     "start_time": "2023-08-20T13:01:53.903751300Z"
    }
   },
   "id": "db2a09512e0da48a"
  },
  {
   "cell_type": "code",
   "execution_count": 9,
   "outputs": [
    {
     "name": "stdout",
     "output_type": "stream",
     "text": [
      "USD : 1\n",
      "EUR : 0.92\n",
      "JPY : 145.4215\n",
      "GBP : 0.7854\n",
      "AUD : 1.5621\n",
      "CAD : 1.3551\n",
      "CHF : 0.8814\n",
      "CNY : 7.3001\n",
      "HKD : 7.8313\n",
      "NZD : 1.6869\n"
     ]
    }
   ],
   "source": [
    "#Top used currencies in the world\n",
    "\n",
    "top=['USD','EUR','JPY','GBP','AUD','CAD','CHF','CNY','HKD','NZD']\n",
    "for i in top:\n",
    "    print(i,':',data['conversion_rates'][i])\n",
    "\n"
   ],
   "metadata": {
    "collapsed": false,
    "ExecuteTime": {
     "end_time": "2023-08-20T13:02:45.814299800Z",
     "start_time": "2023-08-20T13:02:45.799264300Z"
    }
   },
   "id": "8dd9ac8dd0722ac6"
  },
  {
   "cell_type": "code",
   "execution_count": 10,
   "outputs": [],
   "source": [
    "#connect to my postgrsql \n",
    "import psycopg2\n",
    "import pandas as pd\n",
    "\n",
    "conn = psycopg2.connect(\"dbname=web user=postgres password=admin\")\n",
    "cur = conn.cursor()\n",
    "sql='CREATE TABLE IF NOT EXISTS currency (id serial PRIMARY KEY, currency VARCHAR(3), rate FLOAT)'\n",
    "cur.execute(sql)\n",
    "conn.commit()\n"
   ],
   "metadata": {
    "collapsed": false,
    "ExecuteTime": {
     "end_time": "2023-08-20T13:14:43.747664300Z",
     "start_time": "2023-08-20T13:14:42.999418600Z"
    }
   },
   "id": "b274153cbf36306f"
  },
  {
   "cell_type": "code",
   "execution_count": 12,
   "outputs": [
    {
     "name": "stdout",
     "output_type": "stream",
     "text": [
      "done\n"
     ]
    }
   ],
   "source": [
    "#insert data into the table\n",
    "top=['USD','EUR','JPY','GBP','AUD','CAD','CHF','CNY','HKD','NZD']\n",
    "for i  in top:\n",
    "    sql='INSERT INTO currency (currency,rate) VALUES (%s,%s)'\n",
    "    cur.execute(sql,(i,data['conversion_rates'][i]))\n",
    "    conn.commit()\n",
    "print('done')"
   ],
   "metadata": {
    "collapsed": false,
    "ExecuteTime": {
     "end_time": "2023-08-20T13:16:07.232635700Z",
     "start_time": "2023-08-20T13:16:07.204349400Z"
    }
   },
   "id": "15a2988d57db5eb9"
  },
  {
   "cell_type": "code",
   "execution_count": null,
   "outputs": [],
   "source": [],
   "metadata": {
    "collapsed": false
   },
   "id": "551d224702613c40"
  }
 ],
 "metadata": {
  "kernelspec": {
   "display_name": "Python 3",
   "language": "python",
   "name": "python3"
  },
  "language_info": {
   "codemirror_mode": {
    "name": "ipython",
    "version": 2
   },
   "file_extension": ".py",
   "mimetype": "text/x-python",
   "name": "python",
   "nbconvert_exporter": "python",
   "pygments_lexer": "ipython2",
   "version": "2.7.6"
  }
 },
 "nbformat": 4,
 "nbformat_minor": 5
}
